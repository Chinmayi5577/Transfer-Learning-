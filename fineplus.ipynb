{
  "nbformat": 4,
  "nbformat_minor": 0,
  "metadata": {
    "colab": {
      "name": "fineplus.ipynb",
      "provenance": []
    },
    "kernelspec": {
      "name": "python3",
      "display_name": "Python 3"
    },
    "accelerator": "GPU"
  },
  "cells": [
    {
      "cell_type": "markdown",
      "metadata": {
        "id": "A3ac1k7A8CGP",
        "colab_type": "text"
      },
      "source": [
        "import all libraries required \n"
      ]
    },
    {
      "cell_type": "code",
      "metadata": {
        "id": "_dvICo8KcQHw",
        "colab_type": "code",
        "colab": {}
      },
      "source": [
        "from __future__ import print_function \n",
        "from __future__ import division\n",
        "import torch\n",
        "import torch.nn as nn\n",
        "import torch.optim as optim\n",
        "import numpy as np\n",
        "import torchvision\n",
        "from torchvision import datasets, models\n",
        "import torchvision.transforms as transforms \n",
        "import matplotlib.pyplot as plt\n",
        "import time\n",
        "import os\n",
        "import copy\n",
        "import PIL"
      ],
      "execution_count": 0,
      "outputs": []
    },
    {
      "cell_type": "markdown",
      "metadata": {
        "id": "zdB32UEY8NG7",
        "colab_type": "text"
      },
      "source": [
        "Mounting drive to notebook and using the dataset from there."
      ]
    },
    {
      "cell_type": "code",
      "metadata": {
        "id": "A6nkCeLQBZFM",
        "colab_type": "code",
        "outputId": "3df0cc98-4e15-42b1-bcba-3cee9b615947",
        "colab": {
          "base_uri": "https://localhost:8080/",
          "height": 122
        }
      },
      "source": [
        "from google.colab import drive\n",
        "drive.mount('/content/drive')"
      ],
      "execution_count": 2,
      "outputs": [
        {
          "output_type": "stream",
          "text": [
            "Go to this URL in a browser: https://accounts.google.com/o/oauth2/auth?client_id=947318989803-6bn6qk8qdgf4n4g3pfee6491hc0brc4i.apps.googleusercontent.com&redirect_uri=urn%3aietf%3awg%3aoauth%3a2.0%3aoob&response_type=code&scope=email%20https%3a%2f%2fwww.googleapis.com%2fauth%2fdocs.test%20https%3a%2f%2fwww.googleapis.com%2fauth%2fdrive%20https%3a%2f%2fwww.googleapis.com%2fauth%2fdrive.photos.readonly%20https%3a%2f%2fwww.googleapis.com%2fauth%2fpeopleapi.readonly\n",
            "\n",
            "Enter your authorization code:\n",
            "··········\n",
            "Mounted at /content/drive\n"
          ],
          "name": "stdout"
        }
      ]
    },
    {
      "cell_type": "markdown",
      "metadata": {
        "id": "SrwGj0W78aS4",
        "colab_type": "text"
      },
      "source": [
        "Setting Hyperparameters to train the network.\n"
      ]
    },
    {
      "cell_type": "code",
      "metadata": {
        "id": "4gr80rsFv9yY",
        "colab_type": "code",
        "colab": {}
      },
      "source": [
        "#set data directory \n",
        "data_dir = \"/content/drive/My Drive/caltech101/train\"\n",
        "\n",
        "# set model to alexnet\n",
        "model_name='alexnet'\n",
        "\n",
        "# Number of classes in the dataset\n",
        "num_classes = 30\n",
        "\n",
        "# Batch size for training \n",
        "batch_size = 12\n",
        "\n",
        "# Number of epochs to train for \n",
        "num_epochs = 10"
      ],
      "execution_count": 0,
      "outputs": []
    },
    {
      "cell_type": "code",
      "metadata": {
        "id": "tA7Sf3Dcvbmp",
        "colab_type": "code",
        "outputId": "b6cdbc2b-da19-4d32-e5e9-f34edfd74f30",
        "colab": {
          "base_uri": "https://localhost:8080/",
          "height": 51
        }
      },
      "source": [
        "model_ft = models.alexnet(pretrained=True)\n",
        "num_ftrs = model_ft.classifier[6].in_features\n",
        "model_ft.classifier[6] = nn.Linear(num_ftrs,30)\n",
        "input_size = 224"
      ],
      "execution_count": 4,
      "outputs": [
        {
          "output_type": "stream",
          "text": [
            "Downloading: \"https://download.pytorch.org/models/alexnet-owt-4df8aa71.pth\" to /root/.cache/torch/checkpoints/alexnet-owt-4df8aa71.pth\n",
            "100%|██████████| 233M/233M [00:01<00:00, 185MB/s]\n"
          ],
          "name": "stderr"
        }
      ]
    },
    {
      "cell_type": "markdown",
      "metadata": {
        "id": "A9l2dpho8wlT",
        "colab_type": "text"
      },
      "source": [
        "Using GPU for training."
      ]
    },
    {
      "cell_type": "code",
      "metadata": {
        "id": "nep7JI9hx0jS",
        "colab_type": "code",
        "outputId": "af331ef4-533d-4acc-c6fc-3fb273fb68f8",
        "colab": {
          "base_uri": "https://localhost:8080/",
          "height": 34
        }
      },
      "source": [
        "device = torch.device(\"cuda:0\" if torch.cuda.is_available() else \"cpu\")\n",
        "print(device)"
      ],
      "execution_count": 5,
      "outputs": [
        {
          "output_type": "stream",
          "text": [
            "cuda:0\n"
          ],
          "name": "stdout"
        }
      ]
    },
    {
      "cell_type": "markdown",
      "metadata": {
        "id": "Rv669BVn805t",
        "colab_type": "text"
      },
      "source": [
        "Normalize and preprocess images in the dataset to match the network requirements."
      ]
    },
    {
      "cell_type": "code",
      "metadata": {
        "id": "ElU9O0WS7YGF",
        "colab_type": "code",
        "colab": {}
      },
      "source": [
        "normalize =  transforms.Normalize(mean=[0.485, 0.456, 0.406],\n",
        "                                 std=[0.229, 0.224, 0.225])"
      ],
      "execution_count": 0,
      "outputs": []
    },
    {
      "cell_type": "code",
      "metadata": {
        "id": "yipJglVA8m1E",
        "colab_type": "code",
        "colab": {}
      },
      "source": [
        "resize = transforms . Resize ((224 , 224) )"
      ],
      "execution_count": 0,
      "outputs": []
    },
    {
      "cell_type": "code",
      "metadata": {
        "id": "yA5rUqUvAPHT",
        "colab_type": "code",
        "colab": {}
      },
      "source": [
        "preprocessor = transforms .Compose ([ resize , transforms . ToTensor () , normalize , ])\n"
      ],
      "execution_count": 0,
      "outputs": []
    },
    {
      "cell_type": "code",
      "metadata": {
        "id": "FZCCEJ3A-4MA",
        "colab_type": "code",
        "colab": {}
      },
      "source": [
        "trans= torchvision.transforms.Compose([\n",
        "                                       torchvision.transforms.RandomRotation(30),\n",
        "                                       torchvision.transforms.ColorJitter(),\n",
        "                                       torchvision.transforms.RandomVerticalFlip(),\n",
        "                                       torchvision.transforms.RandomGrayscale(),\n",
        "                                       preprocessor\n",
        "])"
      ],
      "execution_count": 0,
      "outputs": []
    },
    {
      "cell_type": "markdown",
      "metadata": {
        "id": "wQYYqLBM9H5N",
        "colab_type": "text"
      },
      "source": [
        "Convert dataset images into pytorch ImageFolder format."
      ]
    },
    {
      "cell_type": "code",
      "metadata": {
        "id": "lZy-CsokARtK",
        "colab_type": "code",
        "colab": {}
      },
      "source": [
        "dataset=datasets.ImageFolder(data_dir,transform=trans)"
      ],
      "execution_count": 0,
      "outputs": []
    },
    {
      "cell_type": "markdown",
      "metadata": {
        "id": "Y3B6J-_V9N0l",
        "colab_type": "text"
      },
      "source": [
        "Define training function."
      ]
    },
    {
      "cell_type": "code",
      "metadata": {
        "id": "FMZCAifauSx_",
        "colab_type": "code",
        "colab": {}
      },
      "source": [
        "def train_model(model, dataloaders, criterion, optimizer, num_epochs=25):\n",
        "    since = time.time()\n",
        "\n",
        "    val_acc_history = []\n",
        "    \n",
        "    best_model_wts = copy.deepcopy(model.state_dict())\n",
        "    best_acc = 0.0\n",
        "\n",
        "    for epoch in range(num_epochs):\n",
        "        print('Epoch {}/{}'.format(epoch, num_epochs - 1))\n",
        "        print('-' * 10)\n",
        "\n",
        "        # Each epoch has a training and validation phase\n",
        "        for phase in ['train', 'val']:\n",
        "            if phase == 'train':\n",
        "                model.train()  # Set model to training mode\n",
        "            else:\n",
        "                model.eval()   # Set model to evaluate mode\n",
        "\n",
        "            running_loss = 0.0\n",
        "            running_corrects = 0\n",
        "\n",
        "            # Iterate over data.\n",
        "            for inputs, labels in dataloaders[phase]:\n",
        "                inputs = inputs.to(device)\n",
        "                labels = labels.to(device)\n",
        "\n",
        "                # zero the parameter gradients\n",
        "                optimizer.zero_grad()\n",
        "\n",
        "                # forward\n",
        "                # track history if only in train\n",
        "                with torch.set_grad_enabled(phase == 'train'):\n",
        "\n",
        "                    outputs = model(inputs)\n",
        "                    loss = criterion(outputs, labels)\n",
        "\n",
        "                    _, preds = torch.max(outputs, 1)\n",
        "\n",
        "                    # backward + optimize only if in training phase\n",
        "                    if phase == 'train':\n",
        "                        loss.backward()\n",
        "                        optimizer.step()\n",
        "\n",
        "                # statistics\n",
        "                running_loss += loss.item() * inputs.size(0)\n",
        "                running_corrects += torch.sum(preds == labels.data)\n",
        "\n",
        "            epoch_loss = running_loss / len(dataloaders[phase].dataset)\n",
        "            epoch_acc = running_corrects.double() / len(dataloaders[phase].dataset)\n",
        "\n",
        "            print('{} Loss: {:.4f} Acc: {:.4f}'.format(phase, epoch_loss, epoch_acc))\n",
        "\n",
        "            # deep copy the model\n",
        "            if phase == 'val' and epoch_acc > best_acc:\n",
        "                best_acc = epoch_acc\n",
        "                best_model_wts = copy.deepcopy(model.state_dict())\n",
        "            if phase == 'val':\n",
        "                val_acc_history.append(epoch_acc)\n",
        "\n",
        "        print()\n",
        "\n",
        "    time_elapsed = time.time() - since\n",
        "    print('Training complete in {:.0f}m {:.0f}s'.format(time_elapsed // 60, time_elapsed % 60))\n",
        "    print('Best val Acc: {:4f}'.format(best_acc))\n",
        "\n",
        "    # load best model weights\n",
        "    model.load_state_dict(best_model_wts)\n",
        "    return model, val_acc_history"
      ],
      "execution_count": 0,
      "outputs": []
    },
    {
      "cell_type": "markdown",
      "metadata": {
        "id": "niOdW5KE9cEk",
        "colab_type": "text"
      },
      "source": [
        "Download the pretrained alexnet model and set the last layer to have 30 output classes. "
      ]
    },
    {
      "cell_type": "code",
      "metadata": {
        "id": "y1GL1duXw8z-",
        "colab_type": "code",
        "outputId": "4be5831d-e1f0-49ff-e342-fbbe6cb3ddf3",
        "colab": {
          "base_uri": "https://localhost:8080/",
          "height": 476
        }
      },
      "source": [
        "print(model_ft)"
      ],
      "execution_count": 12,
      "outputs": [
        {
          "output_type": "stream",
          "text": [
            "AlexNet(\n",
            "  (features): Sequential(\n",
            "    (0): Conv2d(3, 64, kernel_size=(11, 11), stride=(4, 4), padding=(2, 2))\n",
            "    (1): ReLU(inplace=True)\n",
            "    (2): MaxPool2d(kernel_size=3, stride=2, padding=0, dilation=1, ceil_mode=False)\n",
            "    (3): Conv2d(64, 192, kernel_size=(5, 5), stride=(1, 1), padding=(2, 2))\n",
            "    (4): ReLU(inplace=True)\n",
            "    (5): MaxPool2d(kernel_size=3, stride=2, padding=0, dilation=1, ceil_mode=False)\n",
            "    (6): Conv2d(192, 384, kernel_size=(3, 3), stride=(1, 1), padding=(1, 1))\n",
            "    (7): ReLU(inplace=True)\n",
            "    (8): Conv2d(384, 256, kernel_size=(3, 3), stride=(1, 1), padding=(1, 1))\n",
            "    (9): ReLU(inplace=True)\n",
            "    (10): Conv2d(256, 256, kernel_size=(3, 3), stride=(1, 1), padding=(1, 1))\n",
            "    (11): ReLU(inplace=True)\n",
            "    (12): MaxPool2d(kernel_size=3, stride=2, padding=0, dilation=1, ceil_mode=False)\n",
            "  )\n",
            "  (avgpool): AdaptiveAvgPool2d(output_size=(6, 6))\n",
            "  (classifier): Sequential(\n",
            "    (0): Dropout(p=0.5, inplace=False)\n",
            "    (1): Linear(in_features=9216, out_features=4096, bias=True)\n",
            "    (2): ReLU(inplace=True)\n",
            "    (3): Dropout(p=0.5, inplace=False)\n",
            "    (4): Linear(in_features=4096, out_features=4096, bias=True)\n",
            "    (5): ReLU(inplace=True)\n",
            "    (6): Linear(in_features=4096, out_features=30, bias=True)\n",
            "  )\n",
            ")\n"
          ],
          "name": "stdout"
        }
      ]
    },
    {
      "cell_type": "code",
      "metadata": {
        "id": "QwUUydRjx_kr",
        "colab_type": "code",
        "colab": {}
      },
      "source": [
        "image_datasets = {x: dataset for x in ['train', 'val']}\n",
        "# Create training and validation dataloaders\n",
        "\n",
        "dataloaders_dict = {x: torch.utils.data.DataLoader(image_datasets[x], batch_size=batch_size, shuffle=True, num_workers=4) for x in ['train', 'val']}"
      ],
      "execution_count": 0,
      "outputs": []
    },
    {
      "cell_type": "code",
      "metadata": {
        "id": "XuoEkMtIyypK",
        "colab_type": "code",
        "colab": {}
      },
      "source": [
        "# Send the model to GPU\n",
        "model_ft = model_ft.to(device)\n",
        "\n",
        "params_to_update = model_ft.parameters()\n",
        "\n",
        "#set larger learning rate for the last layer\n",
        "optimizer_ft = optim.SGD([{'params': model_ft.classifier[6].parameters(), 'lr':0.01}], lr=0.001, momentum=0.9)"
      ],
      "execution_count": 0,
      "outputs": []
    },
    {
      "cell_type": "markdown",
      "metadata": {
        "id": "tmT-cnjx97g0",
        "colab_type": "text"
      },
      "source": [
        "Train the model for 10 iterations."
      ]
    },
    {
      "cell_type": "code",
      "metadata": {
        "id": "1cAHa7cKzGoR",
        "colab_type": "code",
        "outputId": "a80381cf-a682-4e02-fd0c-aa2e0f80ce81",
        "colab": {
          "base_uri": "https://localhost:8080/",
          "height": 1000
        }
      },
      "source": [
        "# Setup the loss fxn\n",
        "criterion = nn.CrossEntropyLoss()\n",
        "\n",
        "# Train and evaluate\n",
        "model_ft, hist = train_model(model_ft, dataloaders_dict, criterion, optimizer_ft, num_epochs=50)"
      ],
      "execution_count": 15,
      "outputs": [
        {
          "output_type": "stream",
          "text": [
            "Epoch 0/49\n",
            "----------\n",
            "train Loss: 6.2820 Acc: 0.5240\n",
            "val Loss: 3.2199 Acc: 0.7653\n",
            "\n",
            "Epoch 1/49\n",
            "----------\n",
            "train Loss: 4.6862 Acc: 0.7067\n",
            "val Loss: 2.5079 Acc: 0.8327\n",
            "\n",
            "Epoch 2/49\n",
            "----------\n",
            "train Loss: 3.7211 Acc: 0.7640\n",
            "val Loss: 1.8796 Acc: 0.8613\n",
            "\n",
            "Epoch 3/49\n",
            "----------\n",
            "train Loss: 3.4905 Acc: 0.7927\n",
            "val Loss: 2.1264 Acc: 0.8633\n",
            "\n",
            "Epoch 4/49\n",
            "----------\n",
            "train Loss: 3.0662 Acc: 0.8160\n",
            "val Loss: 1.7539 Acc: 0.8860\n",
            "\n",
            "Epoch 5/49\n",
            "----------\n",
            "train Loss: 2.3878 Acc: 0.8540\n",
            "val Loss: 1.2221 Acc: 0.9153\n",
            "\n",
            "Epoch 6/49\n",
            "----------\n",
            "train Loss: 2.2466 Acc: 0.8607\n",
            "val Loss: 0.8569 Acc: 0.9280\n",
            "\n",
            "Epoch 7/49\n",
            "----------\n",
            "train Loss: 2.0565 Acc: 0.8687\n",
            "val Loss: 1.1169 Acc: 0.9267\n",
            "\n",
            "Epoch 8/49\n",
            "----------\n",
            "train Loss: 1.8256 Acc: 0.8860\n",
            "val Loss: 1.0528 Acc: 0.9313\n",
            "\n",
            "Epoch 9/49\n",
            "----------\n",
            "train Loss: 1.9640 Acc: 0.8720\n",
            "val Loss: 0.7360 Acc: 0.9427\n",
            "\n",
            "Epoch 10/49\n",
            "----------\n",
            "train Loss: 2.0716 Acc: 0.8660\n",
            "val Loss: 0.6981 Acc: 0.9393\n",
            "\n",
            "Epoch 11/49\n",
            "----------\n",
            "train Loss: 1.8033 Acc: 0.8867\n",
            "val Loss: 0.7713 Acc: 0.9380\n",
            "\n",
            "Epoch 12/49\n",
            "----------\n",
            "train Loss: 1.8228 Acc: 0.8920\n",
            "val Loss: 0.6459 Acc: 0.9487\n",
            "\n",
            "Epoch 13/49\n",
            "----------\n",
            "train Loss: 1.4493 Acc: 0.9020\n",
            "val Loss: 0.8563 Acc: 0.9433\n",
            "\n",
            "Epoch 14/49\n",
            "----------\n",
            "train Loss: 1.6229 Acc: 0.9040\n",
            "val Loss: 0.5734 Acc: 0.9567\n",
            "\n",
            "Epoch 15/49\n",
            "----------\n",
            "train Loss: 1.4901 Acc: 0.9133\n",
            "val Loss: 0.7221 Acc: 0.9527\n",
            "\n",
            "Epoch 16/49\n",
            "----------\n",
            "train Loss: 1.3999 Acc: 0.9100\n",
            "val Loss: 0.6284 Acc: 0.9553\n",
            "\n",
            "Epoch 17/49\n",
            "----------\n",
            "train Loss: 1.6070 Acc: 0.9187\n",
            "val Loss: 0.7138 Acc: 0.9513\n",
            "\n",
            "Epoch 18/49\n",
            "----------\n",
            "train Loss: 1.3091 Acc: 0.9107\n",
            "val Loss: 0.7219 Acc: 0.9493\n",
            "\n",
            "Epoch 19/49\n",
            "----------\n",
            "train Loss: 1.5146 Acc: 0.9100\n",
            "val Loss: 0.7673 Acc: 0.9500\n",
            "\n",
            "Epoch 20/49\n",
            "----------\n",
            "train Loss: 1.3092 Acc: 0.9207\n",
            "val Loss: 0.3683 Acc: 0.9687\n",
            "\n",
            "Epoch 21/49\n",
            "----------\n",
            "train Loss: 1.2486 Acc: 0.9160\n",
            "val Loss: 0.6177 Acc: 0.9607\n",
            "\n",
            "Epoch 22/49\n",
            "----------\n",
            "train Loss: 1.3760 Acc: 0.9107\n",
            "val Loss: 0.3972 Acc: 0.9660\n",
            "\n",
            "Epoch 23/49\n",
            "----------\n",
            "train Loss: 1.4430 Acc: 0.9200\n",
            "val Loss: 0.3672 Acc: 0.9647\n",
            "\n",
            "Epoch 24/49\n",
            "----------\n",
            "train Loss: 1.1281 Acc: 0.9287\n",
            "val Loss: 0.3820 Acc: 0.9767\n",
            "\n",
            "Epoch 25/49\n",
            "----------\n",
            "train Loss: 1.0807 Acc: 0.9360\n",
            "val Loss: 0.6612 Acc: 0.9607\n",
            "\n",
            "Epoch 26/49\n",
            "----------\n",
            "train Loss: 1.1397 Acc: 0.9293\n",
            "val Loss: 0.5237 Acc: 0.9640\n",
            "\n",
            "Epoch 27/49\n",
            "----------\n",
            "train Loss: 1.1575 Acc: 0.9280\n",
            "val Loss: 0.3656 Acc: 0.9687\n",
            "\n",
            "Epoch 28/49\n",
            "----------\n",
            "train Loss: 1.1465 Acc: 0.9333\n",
            "val Loss: 0.5153 Acc: 0.9700\n",
            "\n",
            "Epoch 29/49\n",
            "----------\n",
            "train Loss: 1.0165 Acc: 0.9253\n",
            "val Loss: 0.3724 Acc: 0.9733\n",
            "\n",
            "Epoch 30/49\n",
            "----------\n",
            "train Loss: 1.1220 Acc: 0.9433\n",
            "val Loss: 0.4839 Acc: 0.9680\n",
            "\n",
            "Epoch 31/49\n",
            "----------\n",
            "train Loss: 1.2708 Acc: 0.9227\n",
            "val Loss: 0.4602 Acc: 0.9693\n",
            "\n",
            "Epoch 32/49\n",
            "----------\n",
            "train Loss: 0.9993 Acc: 0.9380\n",
            "val Loss: 0.2445 Acc: 0.9740\n",
            "\n",
            "Epoch 33/49\n",
            "----------\n",
            "train Loss: 0.8980 Acc: 0.9453\n",
            "val Loss: 0.4909 Acc: 0.9667\n",
            "\n",
            "Epoch 34/49\n",
            "----------\n",
            "train Loss: 0.8865 Acc: 0.9447\n",
            "val Loss: 0.3627 Acc: 0.9740\n",
            "\n",
            "Epoch 35/49\n",
            "----------\n",
            "train Loss: 0.7092 Acc: 0.9480\n",
            "val Loss: 0.3579 Acc: 0.9760\n",
            "\n",
            "Epoch 36/49\n",
            "----------\n",
            "train Loss: 1.2241 Acc: 0.9293\n",
            "val Loss: 0.5140 Acc: 0.9720\n",
            "\n",
            "Epoch 37/49\n",
            "----------\n",
            "train Loss: 0.9935 Acc: 0.9360\n",
            "val Loss: 0.3608 Acc: 0.9693\n",
            "\n",
            "Epoch 38/49\n",
            "----------\n",
            "train Loss: 0.7383 Acc: 0.9480\n",
            "val Loss: 0.2515 Acc: 0.9813\n",
            "\n",
            "Epoch 39/49\n",
            "----------\n",
            "train Loss: 0.7011 Acc: 0.9533\n",
            "val Loss: 0.3588 Acc: 0.9720\n",
            "\n",
            "Epoch 40/49\n",
            "----------\n",
            "train Loss: 0.7700 Acc: 0.9533\n",
            "val Loss: 0.1767 Acc: 0.9820\n",
            "\n",
            "Epoch 41/49\n",
            "----------\n",
            "train Loss: 0.7557 Acc: 0.9487\n",
            "val Loss: 0.3232 Acc: 0.9787\n",
            "\n",
            "Epoch 42/49\n",
            "----------\n",
            "train Loss: 0.9907 Acc: 0.9500\n",
            "val Loss: 0.2798 Acc: 0.9827\n",
            "\n",
            "Epoch 43/49\n",
            "----------\n",
            "train Loss: 0.7060 Acc: 0.9573\n",
            "val Loss: 0.2375 Acc: 0.9827\n",
            "\n",
            "Epoch 44/49\n",
            "----------\n",
            "train Loss: 0.7268 Acc: 0.9593\n",
            "val Loss: 0.3253 Acc: 0.9747\n",
            "\n",
            "Epoch 45/49\n",
            "----------\n",
            "train Loss: 0.9721 Acc: 0.9467\n",
            "val Loss: 0.2150 Acc: 0.9840\n",
            "\n",
            "Epoch 46/49\n",
            "----------\n",
            "train Loss: 1.1188 Acc: 0.9400\n",
            "val Loss: 0.5063 Acc: 0.9740\n",
            "\n",
            "Epoch 47/49\n",
            "----------\n",
            "train Loss: 1.1426 Acc: 0.9287\n",
            "val Loss: 0.3665 Acc: 0.9740\n",
            "\n",
            "Epoch 48/49\n",
            "----------\n",
            "train Loss: 0.9676 Acc: 0.9353\n",
            "val Loss: 0.1373 Acc: 0.9847\n",
            "\n",
            "Epoch 49/49\n",
            "----------\n",
            "train Loss: 0.7724 Acc: 0.9453\n",
            "val Loss: 0.2184 Acc: 0.9833\n",
            "\n",
            "Training complete in 16m 56s\n",
            "Best val Acc: 0.984667\n"
          ],
          "name": "stdout"
        }
      ]
    },
    {
      "cell_type": "markdown",
      "metadata": {
        "id": "y0JaKtwvotIF",
        "colab_type": "text"
      },
      "source": [
        "Save the model"
      ]
    },
    {
      "cell_type": "code",
      "metadata": {
        "id": "gHRQP62_6BH_",
        "colab_type": "code",
        "colab": {}
      },
      "source": [
        "PATH = '/content/drive/My Drive/caltech101.fineplus.pth'\n",
        "torch.save(model_ft.state_dict(), PATH)"
      ],
      "execution_count": 0,
      "outputs": []
    },
    {
      "cell_type": "markdown",
      "metadata": {
        "id": "Qw3AlxGE9wNx",
        "colab_type": "text"
      },
      "source": [
        "Load the test data using pythorch"
      ]
    },
    {
      "cell_type": "code",
      "metadata": {
        "id": "f2Ou_KTFzebz",
        "colab_type": "code",
        "colab": {}
      },
      "source": [
        "test_dir = \"/content/drive/My Drive/caltech101/test\"\n",
        "testset=datasets.ImageFolder(test_dir,transform=preprocessor)\n",
        "testloader=torch . utils . data . DataLoader( testset , batch_size=1 , shuffle=True)"
      ],
      "execution_count": 0,
      "outputs": []
    },
    {
      "cell_type": "markdown",
      "metadata": {
        "id": "KFjfRd3y905P",
        "colab_type": "text"
      },
      "source": [
        "Test model accuracy on test data "
      ]
    },
    {
      "cell_type": "code",
      "metadata": {
        "id": "uKG-rdis12wh",
        "colab_type": "code",
        "outputId": "cdb1166e-bb6b-49a0-a1be-88e47e2984d5",
        "colab": {
          "base_uri": "https://localhost:8080/",
          "height": 1000
        }
      },
      "source": [
        "correct = 0\n",
        "total = 0\n",
        "test_labels = testloader.dataset.targets\n",
        "print(test_labels)\n",
        "correct = 0\n",
        "total = 0\n",
        "confusion_matrix = torch.zeros(30, 30)\n",
        "labels_list=[]\n",
        "predicts_list=[]\n",
        "all_predicted=[]\n",
        "t=0\n",
        "p=0\n",
        "with torch.no_grad():\n",
        "    for data in testloader:\n",
        "        images, labels = data[0].to(device),data[1].to(device)\n",
        "        outputs = model_ft(images)\n",
        "        _, predicted = torch.max(outputs.data, 1)\n",
        "        total += labels.size(0)\n",
        "        correct += (predicted == labels).sum().item()\n",
        "        labels_list+=labels.cpu().numpy().tolist()\n",
        "        all_predicted += predicted.cpu().numpy().tolist()\n",
        "\n",
        "print('Accuracy of the network on the test images: %d %%' % (\n",
        "    100 * correct / total))\n",
        "\n",
        "from sklearn.metrics import confusion_matrix\n",
        "import matplotlib.pyplot as plt\n",
        "import numpy as np\n",
        "import itertools\n",
        "def plot_confusion_matrix(pred_class, actual_class,\n",
        "                          title='Confusion matrix',\n",
        "                          size=None):\n",
        "    \"\"\"\n",
        "    This function prints and plots the confusion matrix.\n",
        "    Normalization can be applied by setting `normalize=True`.\n",
        "\n",
        "    Code from: http://scikit-learn.org/stable/auto_examples/model_selection/plot_confusion_matrix.html\n",
        "    \"\"\"\n",
        "    cm = confusion_matrix(actual_class, pred_class)\n",
        "\n",
        "\n",
        "\n",
        "    cmap = plt.cm.Blues\n",
        "    cm = cm.astype('float') / np.sum(cm, axis=1, keepdims=True)\n",
        "    cm = np.nan_to_num(cm)\n",
        "\n",
        "    if cm is not None:\n",
        "        cm = cm[0:size, 0:size]\n",
        "\n",
        "    print('Confusion matrix')\n",
        "    print(cm)\n",
        "\n",
        "    plt.imshow(cm, interpolation='nearest', cmap=cmap)\n",
        "    plt.title(title)\n",
        "    plt.colorbar()\n",
        "\n",
        "    fmt = '.2f'\n",
        "    thresh = cm.max() / 2.\n",
        "    for i, j in itertools.product(range(cm.shape[0]), range(cm.shape[1])):\n",
        "        plt.text(j, i, format(cm[i, j], fmt),\n",
        "                 horizontalalignment=\"center\",\n",
        "                 color=\"white\" if cm[i, j] > thresh else \"black\")\n",
        "\n",
        "    plt.tight_layout()\n",
        "    plt.ylabel('True label')\n",
        "    plt.xlabel('Predicted label')\n",
        "    \n",
        "#testloader=torch . utils . data . DataLoader( testset , batch_size=4 , shuffle=True)\n",
        "#net1 = FullNet()\n",
        "#net1.fit(trainloader)\n",
        "pred_labels =all_predicted# p.long()#net1.predict(testloader)\n",
        "plt.figure(figsize=(30,30))\n",
        "\n",
        "print(len(labels_list),len(pred_labels))\n",
        "\n",
        "test_labels = labels_list#t.long()#testloader.dataset.targets\n",
        "plot_confusion_matrix(test_labels, pred_labels,size=len(pred_labels))\n",
        "#plot_confusion_matrix(confusion_matrix,size=len(pred_labels))"
      ],
      "execution_count": 19,
      "outputs": [
        {
          "output_type": "stream",
          "text": [
            "[0, 0, 0, 0, 0, 0, 0, 0, 0, 0, 0, 0, 0, 0, 0, 1, 1, 1, 1, 1, 1, 1, 1, 1, 1, 1, 1, 1, 1, 1, 2, 2, 2, 2, 2, 2, 2, 2, 2, 2, 2, 2, 2, 2, 2, 3, 3, 3, 3, 3, 3, 3, 3, 3, 3, 3, 3, 3, 3, 3, 4, 4, 4, 4, 4, 4, 4, 4, 4, 4, 4, 4, 4, 4, 4, 5, 5, 5, 5, 5, 5, 5, 5, 5, 5, 5, 5, 5, 5, 5, 6, 6, 6, 6, 6, 6, 6, 6, 6, 6, 6, 6, 6, 6, 6, 7, 7, 7, 7, 7, 7, 7, 7, 7, 7, 7, 7, 7, 7, 7, 8, 8, 8, 8, 8, 8, 8, 8, 8, 8, 8, 8, 8, 8, 8, 9, 9, 9, 9, 9, 9, 9, 9, 9, 9, 9, 9, 9, 9, 9, 10, 10, 10, 10, 10, 10, 10, 10, 10, 10, 10, 10, 10, 10, 10, 11, 11, 11, 11, 11, 11, 11, 11, 11, 11, 11, 11, 11, 11, 11, 12, 12, 12, 12, 12, 12, 12, 12, 12, 12, 12, 12, 12, 12, 12, 13, 13, 13, 13, 13, 13, 13, 13, 13, 13, 13, 13, 13, 13, 13, 14, 14, 14, 14, 14, 14, 14, 14, 14, 14, 14, 14, 14, 14, 14, 15, 15, 15, 15, 15, 15, 15, 15, 15, 15, 15, 15, 15, 15, 15, 16, 16, 16, 16, 16, 16, 16, 16, 16, 16, 16, 16, 16, 16, 16, 17, 17, 17, 17, 17, 17, 17, 17, 17, 17, 17, 17, 17, 17, 17, 18, 18, 18, 18, 18, 18, 18, 18, 18, 18, 18, 18, 18, 18, 18, 19, 19, 19, 19, 19, 19, 19, 19, 19, 19, 19, 19, 19, 19, 19, 20, 20, 20, 20, 20, 20, 20, 20, 20, 20, 20, 20, 20, 20, 20, 21, 21, 21, 21, 21, 21, 21, 21, 21, 21, 21, 21, 21, 21, 21, 22, 22, 22, 22, 22, 22, 22, 22, 22, 22, 22, 22, 22, 22, 22, 23, 23, 23, 23, 23, 23, 23, 23, 23, 23, 23, 23, 23, 23, 23, 24, 24, 24, 24, 24, 24, 24, 24, 24, 24, 24, 24, 24, 24, 24, 25, 25, 25, 25, 25, 25, 25, 25, 25, 25, 25, 25, 25, 25, 25, 26, 26, 26, 26, 26, 26, 26, 26, 26, 26, 26, 26, 26, 26, 26, 27, 27, 27, 27, 27, 27, 27, 27, 27, 27, 27, 27, 27, 27, 27, 28, 28, 28, 28, 28, 28, 28, 28, 28, 28, 28, 28, 28, 28, 28, 29, 29, 29, 29, 29, 29, 29, 29, 29, 29, 29, 29, 29, 29, 29]\n",
            "Accuracy of the network on the test images: 87 %\n",
            "450 450\n",
            "Confusion matrix\n",
            "[[1.         0.         0.         0.         0.         0.\n",
            "  0.         0.         0.         0.         0.         0.\n",
            "  0.         0.         0.         0.         0.         0.\n",
            "  0.         0.         0.         0.         0.         0.\n",
            "  0.         0.         0.         0.         0.         0.        ]\n",
            " [0.         0.78571429 0.         0.         0.07142857 0.\n",
            "  0.         0.         0.         0.         0.         0.\n",
            "  0.         0.         0.         0.         0.         0.\n",
            "  0.         0.         0.         0.14285714 0.         0.\n",
            "  0.         0.         0.         0.         0.         0.        ]\n",
            " [0.         0.         0.88235294 0.         0.         0.05882353\n",
            "  0.         0.         0.         0.         0.         0.\n",
            "  0.         0.         0.         0.         0.         0.\n",
            "  0.         0.         0.         0.         0.         0.05882353\n",
            "  0.         0.         0.         0.         0.         0.        ]\n",
            " [0.         0.         0.         0.57894737 0.26315789 0.\n",
            "  0.         0.         0.         0.         0.         0.\n",
            "  0.         0.05263158 0.         0.         0.         0.\n",
            "  0.         0.         0.05263158 0.         0.         0.05263158\n",
            "  0.         0.         0.         0.         0.         0.        ]\n",
            " [0.         0.         0.         0.08333333 0.5        0.\n",
            "  0.         0.         0.         0.         0.         0.\n",
            "  0.         0.08333333 0.         0.         0.08333333 0.\n",
            "  0.         0.         0.         0.         0.         0.\n",
            "  0.16666667 0.08333333 0.         0.         0.         0.        ]\n",
            " [0.         0.         0.         0.         0.         0.93333333\n",
            "  0.         0.         0.         0.         0.         0.\n",
            "  0.         0.         0.         0.         0.         0.\n",
            "  0.         0.06666667 0.         0.         0.         0.\n",
            "  0.         0.         0.         0.         0.         0.        ]\n",
            " [0.         0.         0.         0.         0.         0.\n",
            "  1.         0.         0.         0.         0.         0.\n",
            "  0.         0.         0.         0.         0.         0.\n",
            "  0.         0.         0.         0.         0.         0.\n",
            "  0.         0.         0.         0.         0.         0.        ]\n",
            " [0.         0.         0.         0.         0.         0.\n",
            "  0.         1.         0.         0.         0.         0.\n",
            "  0.         0.         0.         0.         0.         0.\n",
            "  0.         0.         0.         0.         0.         0.\n",
            "  0.         0.         0.         0.         0.         0.        ]\n",
            " [0.         0.         0.         0.         0.         0.\n",
            "  0.         0.         0.92857143 0.         0.         0.\n",
            "  0.         0.         0.         0.         0.         0.\n",
            "  0.         0.         0.         0.         0.         0.07142857\n",
            "  0.         0.         0.         0.         0.         0.        ]\n",
            " [0.         0.         0.         0.06666667 0.         0.\n",
            "  0.         0.         0.         0.93333333 0.         0.\n",
            "  0.         0.         0.         0.         0.         0.\n",
            "  0.         0.         0.         0.         0.         0.\n",
            "  0.         0.         0.         0.         0.         0.        ]\n",
            " [0.         0.         0.         0.         0.         0.\n",
            "  0.05882353 0.         0.         0.         0.88235294 0.\n",
            "  0.         0.         0.         0.         0.         0.\n",
            "  0.         0.         0.         0.         0.         0.05882353\n",
            "  0.         0.         0.         0.         0.         0.        ]\n",
            " [0.         0.         0.         0.05882353 0.         0.\n",
            "  0.05882353 0.         0.         0.         0.         0.76470588\n",
            "  0.         0.         0.         0.         0.05882353 0.\n",
            "  0.         0.         0.         0.         0.         0.\n",
            "  0.         0.         0.         0.05882353 0.         0.        ]\n",
            " [0.         0.05882353 0.         0.         0.         0.\n",
            "  0.         0.         0.         0.         0.         0.\n",
            "  0.88235294 0.         0.05882353 0.         0.         0.\n",
            "  0.         0.         0.         0.         0.         0.\n",
            "  0.         0.         0.         0.         0.         0.        ]\n",
            " [0.         0.06666667 0.         0.         0.         0.\n",
            "  0.         0.         0.         0.         0.         0.\n",
            "  0.         0.86666667 0.         0.         0.         0.\n",
            "  0.         0.         0.         0.         0.         0.\n",
            "  0.         0.06666667 0.         0.         0.         0.        ]\n",
            " [0.         0.         0.         0.         0.         0.\n",
            "  0.         0.05555556 0.         0.         0.         0.05555556\n",
            "  0.         0.         0.77777778 0.         0.         0.\n",
            "  0.         0.         0.         0.         0.05555556 0.\n",
            "  0.05555556 0.         0.         0.         0.         0.        ]\n",
            " [0.         0.         0.         0.         0.         0.\n",
            "  0.06666667 0.         0.         0.         0.         0.\n",
            "  0.         0.         0.         0.93333333 0.         0.\n",
            "  0.         0.         0.         0.         0.         0.\n",
            "  0.         0.         0.         0.         0.         0.        ]\n",
            " [0.         0.         0.         0.         0.         0.\n",
            "  0.06666667 0.         0.         0.         0.         0.\n",
            "  0.         0.         0.         0.         0.73333333 0.\n",
            "  0.         0.2        0.         0.         0.         0.\n",
            "  0.         0.         0.         0.         0.         0.        ]\n",
            " [0.         0.         0.         0.         0.         0.\n",
            "  0.         0.         0.         0.         0.         0.\n",
            "  0.         0.         0.         0.         0.         1.\n",
            "  0.         0.         0.         0.         0.         0.\n",
            "  0.         0.         0.         0.         0.         0.        ]\n",
            " [0.         0.         0.         0.         0.         0.\n",
            "  0.         0.         0.         0.         0.         0.\n",
            "  0.         0.         0.         0.         0.         0.\n",
            "  1.         0.         0.         0.         0.         0.\n",
            "  0.         0.         0.         0.         0.         0.        ]\n",
            " [0.         0.         0.         0.         0.         0.\n",
            "  0.         0.         0.07142857 0.         0.         0.\n",
            "  0.         0.         0.         0.         0.07142857 0.\n",
            "  0.         0.78571429 0.         0.         0.         0.\n",
            "  0.         0.07142857 0.         0.         0.         0.        ]\n",
            " [0.         0.06666667 0.         0.         0.         0.\n",
            "  0.         0.         0.         0.         0.         0.\n",
            "  0.         0.         0.         0.         0.         0.\n",
            "  0.         0.         0.93333333 0.         0.         0.\n",
            "  0.         0.         0.         0.         0.         0.        ]\n",
            " [0.         0.         0.         0.         0.         0.\n",
            "  0.         0.         0.         0.07142857 0.         0.\n",
            "  0.         0.         0.         0.         0.         0.\n",
            "  0.         0.         0.         0.92857143 0.         0.\n",
            "  0.         0.         0.         0.         0.         0.        ]\n",
            " [0.         0.         0.         0.         0.         0.\n",
            "  0.         0.         0.         0.         0.         0.\n",
            "  0.         0.         0.         0.         0.         0.\n",
            "  0.         0.         0.         0.         1.         0.\n",
            "  0.         0.         0.         0.         0.         0.        ]\n",
            " [0.         0.         0.         0.         0.         0.\n",
            "  0.         0.         0.07692308 0.         0.         0.\n",
            "  0.         0.         0.         0.07692308 0.         0.\n",
            "  0.         0.         0.         0.         0.         0.84615385\n",
            "  0.         0.         0.         0.         0.         0.        ]\n",
            " [0.         0.05882353 0.         0.         0.17647059 0.\n",
            "  0.         0.         0.         0.         0.         0.\n",
            "  0.         0.         0.         0.         0.05882353 0.\n",
            "  0.         0.         0.         0.         0.         0.\n",
            "  0.70588235 0.         0.         0.         0.         0.        ]\n",
            " [0.         0.         0.         0.         0.         0.\n",
            "  0.         0.         0.         0.         0.         0.\n",
            "  0.         0.         0.         0.         0.         0.\n",
            "  0.         0.         0.         0.         0.         0.\n",
            "  0.         1.         0.         0.         0.         0.        ]\n",
            " [0.         0.         0.         0.0625     0.         0.\n",
            "  0.         0.         0.         0.         0.         0.\n",
            "  0.         0.         0.         0.         0.         0.\n",
            "  0.         0.         0.         0.         0.         0.\n",
            "  0.         0.         0.9375     0.         0.         0.        ]\n",
            " [0.         0.         0.         0.         0.         0.\n",
            "  0.         0.06666667 0.         0.         0.         0.\n",
            "  0.         0.         0.         0.         0.         0.\n",
            "  0.         0.         0.         0.         0.         0.\n",
            "  0.         0.         0.         0.93333333 0.         0.        ]\n",
            " [0.         0.         0.         0.         0.         0.\n",
            "  0.         0.         0.         0.         0.         0.0625\n",
            "  0.         0.         0.         0.         0.         0.\n",
            "  0.         0.         0.         0.         0.         0.\n",
            "  0.         0.         0.         0.         0.9375     0.        ]\n",
            " [0.         0.         0.         0.         0.         0.\n",
            "  0.         0.         0.         0.         0.         0.\n",
            "  0.         0.         0.         0.         0.         0.\n",
            "  0.         0.         0.         0.         0.         0.\n",
            "  0.         0.         0.         0.         0.         1.        ]]\n"
          ],
          "name": "stdout"
        },
        {
          "output_type": "display_data",
          "data": {
            "image/png": "[encoded data removed]",
            "text/plain": [
              "<Figure size 2160x2160 with 2 Axes>"
            ]
          },
          "metadata": {
            "tags": []
          }
        }
      ]
    }
  ]
}