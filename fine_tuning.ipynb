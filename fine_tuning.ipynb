{
  "nbformat": 4,
  "nbformat_minor": 0,
  "metadata": {
    "colab": {
      "name": "fine_tuning.ipynb",
      "provenance": []
    },
    "kernelspec": {
      "name": "python3",
      "display_name": "Python 3"
    },
    "accelerator": "GPU"
  },
  "cells": [
    {
      "cell_type": "markdown",
      "metadata": {
        "id": "A3ac1k7A8CGP",
        "colab_type": "text"
      },
      "source": [
        "import all libraries required \n"
      ]
    },
    {
      "cell_type": "code",
      "metadata": {
        "id": "_dvICo8KcQHw",
        "colab_type": "code",
        "colab": {}
      },
      "source": [
        "from __future__ import print_function \n",
        "from __future__ import division\n",
        "import torch\n",
        "import torch.nn as nn\n",
        "import torch.optim as optim\n",
        "import numpy as np\n",
        "import torchvision\n",
        "from torchvision import datasets, models\n",
        "import torchvision.transforms as transforms \n",
        "import matplotlib.pyplot as plt\n",
        "import time\n",
        "import os\n",
        "import copy"
      ],
      "execution_count": 0,
      "outputs": []
    },
    {
      "cell_type": "markdown",
      "metadata": {
        "id": "zdB32UEY8NG7",
        "colab_type": "text"
      },
      "source": [
        "Mounting drive to notebook and using the dataset from there."
      ]
    },
    {
      "cell_type": "code",
      "metadata": {
        "id": "A6nkCeLQBZFM",
        "colab_type": "code",
        "outputId": "743aa680-eb64-408e-fd72-908332ef0f10",
        "colab": {
          "base_uri": "https://localhost:8080/",
          "height": 34
        }
      },
      "source": [
        "from google.colab import drive\n",
        "drive.mount('/content/drive')"
      ],
      "execution_count": 19,
      "outputs": [
        {
          "output_type": "stream",
          "text": [
            "Drive already mounted at /content/drive; to attempt to forcibly remount, call drive.mount(\"/content/drive\", force_remount=True).\n"
          ],
          "name": "stdout"
        }
      ]
    },
    {
      "cell_type": "markdown",
      "metadata": {
        "id": "SrwGj0W78aS4",
        "colab_type": "text"
      },
      "source": [
        "Setting Hyperparameters to train the network.\n"
      ]
    },
    {
      "cell_type": "code",
      "metadata": {
        "id": "4gr80rsFv9yY",
        "colab_type": "code",
        "colab": {}
      },
      "source": [
        "#set data directory \n",
        "data_dir = \"/content/drive/My Drive/caltech101/train\"\n",
        "\n",
        "# set model to alexnet\n",
        "model_name='alexnet'\n",
        "\n",
        "# Number of classes in the dataset\n",
        "num_classes = 30\n",
        "\n",
        "# Batch size for training \n",
        "batch_size = 24\n",
        "\n",
        "# Number of epochs to train for \n",
        "num_epochs = 10"
      ],
      "execution_count": 0,
      "outputs": []
    },
    {
      "cell_type": "markdown",
      "metadata": {
        "id": "A9l2dpho8wlT",
        "colab_type": "text"
      },
      "source": [
        "Using GPU for training."
      ]
    },
    {
      "cell_type": "code",
      "metadata": {
        "id": "nep7JI9hx0jS",
        "colab_type": "code",
        "outputId": "e099121c-7432-44a2-8cfe-6a32b05fb620",
        "colab": {
          "base_uri": "https://localhost:8080/",
          "height": 34
        }
      },
      "source": [
        "device = torch.device(\"cuda:0\" if torch.cuda.is_available() else \"cpu\")\n",
        "print(device)"
      ],
      "execution_count": 21,
      "outputs": [
        {
          "output_type": "stream",
          "text": [
            "cuda:0\n"
          ],
          "name": "stdout"
        }
      ]
    },
    {
      "cell_type": "markdown",
      "metadata": {
        "id": "Rv669BVn805t",
        "colab_type": "text"
      },
      "source": [
        "Normalize and preprocess images in the dataset to match the network requirements."
      ]
    },
    {
      "cell_type": "code",
      "metadata": {
        "id": "ElU9O0WS7YGF",
        "colab_type": "code",
        "colab": {}
      },
      "source": [
        "normalize =  transforms.Normalize(mean=[0.485, 0.456, 0.406],\n",
        "                                 std=[0.229, 0.224, 0.225])"
      ],
      "execution_count": 0,
      "outputs": []
    },
    {
      "cell_type": "code",
      "metadata": {
        "id": "yipJglVA8m1E",
        "colab_type": "code",
        "colab": {}
      },
      "source": [
        "resize = transforms . Resize ((224 , 224) )"
      ],
      "execution_count": 0,
      "outputs": []
    },
    {
      "cell_type": "code",
      "metadata": {
        "id": "yA5rUqUvAPHT",
        "colab_type": "code",
        "colab": {}
      },
      "source": [
        "preprocessor = transforms .Compose ([ resize , transforms . ToTensor () , normalize , ])\n"
      ],
      "execution_count": 0,
      "outputs": []
    },
    {
      "cell_type": "markdown",
      "metadata": {
        "id": "wQYYqLBM9H5N",
        "colab_type": "text"
      },
      "source": [
        "Convert dataset images into pytorch ImageFolder format."
      ]
    },
    {
      "cell_type": "code",
      "metadata": {
        "id": "lZy-CsokARtK",
        "colab_type": "code",
        "colab": {}
      },
      "source": [
        "dataset=datasets.ImageFolder(data_dir,transform=preprocessor)"
      ],
      "execution_count": 0,
      "outputs": []
    },
    {
      "cell_type": "markdown",
      "metadata": {
        "id": "Y3B6J-_V9N0l",
        "colab_type": "text"
      },
      "source": [
        "Define training function."
      ]
    },
    {
      "cell_type": "code",
      "metadata": {
        "id": "FMZCAifauSx_",
        "colab_type": "code",
        "colab": {}
      },
      "source": [
        "def train_model(model, dataloaders, criterion, optimizer, num_epochs=25):\n",
        "    since = time.time()\n",
        "\n",
        "    val_acc_history = []\n",
        "    \n",
        "    best_model_wts = copy.deepcopy(model.state_dict())\n",
        "    best_acc = 0.0\n",
        "\n",
        "    for epoch in range(num_epochs):\n",
        "        print('Epoch {}/{}'.format(epoch, num_epochs - 1))\n",
        "        print('-' * 10)\n",
        "\n",
        "        # Each epoch has a training and validation phase\n",
        "        for phase in ['train', 'val']:\n",
        "            if phase == 'train':\n",
        "                model.train()  # Set model to training mode\n",
        "            else:\n",
        "                model.eval()   # Set model to evaluate mode\n",
        "\n",
        "            running_loss = 0.0\n",
        "            running_corrects = 0\n",
        "\n",
        "            # Iterate over data.\n",
        "            for inputs, labels in dataloaders[phase]:\n",
        "                inputs = inputs.to(device)\n",
        "                labels = labels.to(device)\n",
        "\n",
        "                # zero the parameter gradients\n",
        "                optimizer.zero_grad()\n",
        "\n",
        "                # forward\n",
        "                # track history if only in train\n",
        "                with torch.set_grad_enabled(phase == 'train'):\n",
        "                    outputs = model(inputs)\n",
        "                    loss = criterion(outputs, labels)\n",
        "\n",
        "                    _, preds = torch.max(outputs, 1)\n",
        "\n",
        "                    # backward + optimize only if in training phase\n",
        "                    if phase == 'train':\n",
        "                        loss.backward()\n",
        "                        optimizer.step()\n",
        "\n",
        "                # statistics\n",
        "                running_loss += loss.item() * inputs.size(0)\n",
        "                running_corrects += torch.sum(preds == labels.data)\n",
        "\n",
        "            epoch_loss = running_loss / len(dataloaders[phase].dataset)\n",
        "            epoch_acc = running_corrects.double() / len(dataloaders[phase].dataset)\n",
        "\n",
        "            print('{} Loss: {:.4f} Acc: {:.4f}'.format(phase, epoch_loss, epoch_acc))\n",
        "\n",
        "            # deep copy the model\n",
        "            if phase == 'val' and epoch_acc > best_acc:\n",
        "                best_acc = epoch_acc\n",
        "                best_model_wts = copy.deepcopy(model.state_dict())\n",
        "            if phase == 'val':\n",
        "                val_acc_history.append(epoch_acc)\n",
        "\n",
        "        print()\n",
        "\n",
        "    time_elapsed = time.time() - since\n",
        "    print('Training complete in {:.0f}m {:.0f}s'.format(time_elapsed // 60, time_elapsed % 60))\n",
        "    print('Best val Acc: {:4f}'.format(best_acc))\n",
        "\n",
        "    # load best model weights\n",
        "    model.load_state_dict(best_model_wts)\n",
        "    return model, val_acc_history"
      ],
      "execution_count": 0,
      "outputs": []
    },
    {
      "cell_type": "markdown",
      "metadata": {
        "id": "niOdW5KE9cEk",
        "colab_type": "text"
      },
      "source": [
        "Download the pretrained alexnet model and set the last layer to have 30 output classes. "
      ]
    },
    {
      "cell_type": "code",
      "metadata": {
        "id": "tA7Sf3Dcvbmp",
        "colab_type": "code",
        "colab": {}
      },
      "source": [
        "model_ft = models.alexnet(pretrained=True)\n",
        "num_ftrs = model_ft.classifier[6].in_features\n",
        "model_ft.classifier[6] = nn.Linear(num_ftrs,30)\n",
        "input_size = 224"
      ],
      "execution_count": 0,
      "outputs": []
    },
    {
      "cell_type": "code",
      "metadata": {
        "id": "y1GL1duXw8z-",
        "colab_type": "code",
        "outputId": "ea958feb-3f28-4c87-932b-3eb9a47a9912",
        "colab": {
          "base_uri": "https://localhost:8080/",
          "height": 476
        }
      },
      "source": [
        "print(model_ft)"
      ],
      "execution_count": 28,
      "outputs": [
        {
          "output_type": "stream",
          "text": [
            "AlexNet(\n",
            "  (features): Sequential(\n",
            "    (0): Conv2d(3, 64, kernel_size=(11, 11), stride=(4, 4), padding=(2, 2))\n",
            "    (1): ReLU(inplace=True)\n",
            "    (2): MaxPool2d(kernel_size=3, stride=2, padding=0, dilation=1, ceil_mode=False)\n",
            "    (3): Conv2d(64, 192, kernel_size=(5, 5), stride=(1, 1), padding=(2, 2))\n",
            "    (4): ReLU(inplace=True)\n",
            "    (5): MaxPool2d(kernel_size=3, stride=2, padding=0, dilation=1, ceil_mode=False)\n",
            "    (6): Conv2d(192, 384, kernel_size=(3, 3), stride=(1, 1), padding=(1, 1))\n",
            "    (7): ReLU(inplace=True)\n",
            "    (8): Conv2d(384, 256, kernel_size=(3, 3), stride=(1, 1), padding=(1, 1))\n",
            "    (9): ReLU(inplace=True)\n",
            "    (10): Conv2d(256, 256, kernel_size=(3, 3), stride=(1, 1), padding=(1, 1))\n",
            "    (11): ReLU(inplace=True)\n",
            "    (12): MaxPool2d(kernel_size=3, stride=2, padding=0, dilation=1, ceil_mode=False)\n",
            "  )\n",
            "  (avgpool): AdaptiveAvgPool2d(output_size=(6, 6))\n",
            "  (classifier): Sequential(\n",
            "    (0): Dropout(p=0.5, inplace=False)\n",
            "    (1): Linear(in_features=9216, out_features=4096, bias=True)\n",
            "    (2): ReLU(inplace=True)\n",
            "    (3): Dropout(p=0.5, inplace=False)\n",
            "    (4): Linear(in_features=4096, out_features=4096, bias=True)\n",
            "    (5): ReLU(inplace=True)\n",
            "    (6): Linear(in_features=4096, out_features=30, bias=True)\n",
            "  )\n",
            ")\n"
          ],
          "name": "stdout"
        }
      ]
    },
    {
      "cell_type": "code",
      "metadata": {
        "id": "QwUUydRjx_kr",
        "colab_type": "code",
        "colab": {}
      },
      "source": [
        "image_datasets = {x: dataset for x in ['train', 'val']}\n",
        "\n",
        "dataloaders_dict = {x: torch.utils.data.DataLoader(image_datasets[x], batch_size=batch_size, shuffle=True, num_workers=4) for x in ['train', 'val']}"
      ],
      "execution_count": 0,
      "outputs": []
    },
    {
      "cell_type": "code",
      "metadata": {
        "id": "XuoEkMtIyypK",
        "colab_type": "code",
        "outputId": "7830aa1a-09b9-4e36-975f-60a17a4c0f6c",
        "colab": {
          "base_uri": "https://localhost:8080/",
          "height": 289
        }
      },
      "source": [
        "# Send the model to GPU\n",
        "model_ft = model_ft.to(device)\n",
        "params_to_update = model_ft.parameters()\n",
        "for name,param in model_ft.named_parameters():\n",
        "  if param.requires_grad == True:\n",
        "    print(\"\\t\",name)\n",
        "\n",
        "#Larger rate for the last layer\n",
        "optimizer_ft = optim.SGD([{'params': model_ft.classifier[6].parameters(), 'lr':0.01}], lr=0.001, momentum=0.9)"
      ],
      "execution_count": 30,
      "outputs": [
        {
          "output_type": "stream",
          "text": [
            "\t features.0.weight\n",
            "\t features.0.bias\n",
            "\t features.3.weight\n",
            "\t features.3.bias\n",
            "\t features.6.weight\n",
            "\t features.6.bias\n",
            "\t features.8.weight\n",
            "\t features.8.bias\n",
            "\t features.10.weight\n",
            "\t features.10.bias\n",
            "\t classifier.1.weight\n",
            "\t classifier.1.bias\n",
            "\t classifier.4.weight\n",
            "\t classifier.4.bias\n",
            "\t classifier.6.weight\n",
            "\t classifier.6.bias\n"
          ],
          "name": "stdout"
        }
      ]
    },
    {
      "cell_type": "markdown",
      "metadata": {
        "id": "tmT-cnjx97g0",
        "colab_type": "text"
      },
      "source": [
        "Train the model for 10 iterations."
      ]
    },
    {
      "cell_type": "code",
      "metadata": {
        "id": "1cAHa7cKzGoR",
        "colab_type": "code",
        "outputId": "7bdee9c7-97bf-4f50-bf93-baba13354a59",
        "colab": {
          "base_uri": "https://localhost:8080/",
          "height": 901
        }
      },
      "source": [
        "# Setup the loss fxn\n",
        "criterion = nn.CrossEntropyLoss()\n",
        "\n",
        "# Train and evaluate\n",
        "model_ft, hist = train_model(model_ft, dataloaders_dict, criterion, optimizer_ft, num_epochs=10)"
      ],
      "execution_count": 31,
      "outputs": [
        {
          "output_type": "stream",
          "text": [
            "Epoch 0/9\n",
            "----------\n",
            "train Loss: 1.3000 Acc: 0.7500\n",
            "val Loss: 0.1890 Acc: 0.9620\n",
            "\n",
            "Epoch 1/9\n",
            "----------\n",
            "train Loss: 0.4920 Acc: 0.9167\n",
            "val Loss: 0.0428 Acc: 0.9847\n",
            "\n",
            "Epoch 2/9\n",
            "----------\n",
            "train Loss: 0.1943 Acc: 0.9580\n",
            "val Loss: 0.0618 Acc: 0.9900\n",
            "\n",
            "Epoch 3/9\n",
            "----------\n",
            "train Loss: 0.1340 Acc: 0.9720\n",
            "val Loss: 0.0140 Acc: 0.9960\n",
            "\n",
            "Epoch 4/9\n",
            "----------\n",
            "train Loss: 0.0700 Acc: 0.9840\n",
            "val Loss: 0.0049 Acc: 0.9987\n",
            "\n",
            "Epoch 5/9\n",
            "----------\n",
            "train Loss: 0.0833 Acc: 0.9793\n",
            "val Loss: 0.0038 Acc: 0.9987\n",
            "\n",
            "Epoch 6/9\n",
            "----------\n",
            "train Loss: 0.0384 Acc: 0.9940\n",
            "val Loss: 0.0016 Acc: 0.9993\n",
            "\n",
            "Epoch 7/9\n",
            "----------\n",
            "train Loss: 0.0227 Acc: 0.9913\n",
            "val Loss: 0.0000 Acc: 1.0000\n",
            "\n",
            "Epoch 8/9\n",
            "----------\n",
            "train Loss: 0.0322 Acc: 0.9913\n",
            "val Loss: 0.0002 Acc: 1.0000\n",
            "\n",
            "Epoch 9/9\n",
            "----------\n",
            "train Loss: 0.0289 Acc: 0.9913\n",
            "val Loss: 0.0002 Acc: 1.0000\n",
            "\n",
            "Training complete in 2m 48s\n",
            "Best val Acc: 1.000000\n"
          ],
          "name": "stdout"
        }
      ]
    },
    {
      "cell_type": "markdown",
      "metadata": {
        "id": "ZDcgCYc1BIhZ",
        "colab_type": "text"
      },
      "source": [
        "Save the trained model"
      ]
    },
    {
      "cell_type": "code",
      "metadata": {
        "id": "gHRQP62_6BH_",
        "colab_type": "code",
        "colab": {}
      },
      "source": [
        "PATH = '/content/drive/My Drive/caltech101.finetune.pth'\n",
        "torch.save(model_ft.state_dict(), PATH)"
      ],
      "execution_count": 0,
      "outputs": []
    },
    {
      "cell_type": "markdown",
      "metadata": {
        "id": "Qw3AlxGE9wNx",
        "colab_type": "text"
      },
      "source": [
        "Load the test data using pythorch"
      ]
    },
    {
      "cell_type": "code",
      "metadata": {
        "id": "f2Ou_KTFzebz",
        "colab_type": "code",
        "colab": {}
      },
      "source": [
        "test_dir = \"/content/drive/My Drive/caltech101/test\"\n",
        "testset=datasets.ImageFolder(test_dir,transform=preprocessor)\n",
        "testloader=torch . utils . data . DataLoader( testset , batch_size=4 , shuffle=True)"
      ],
      "execution_count": 0,
      "outputs": []
    },
    {
      "cell_type": "markdown",
      "metadata": {
        "id": "KFjfRd3y905P",
        "colab_type": "text"
      },
      "source": [
        "Test model accuracy on test data "
      ]
    },
    {
      "cell_type": "code",
      "metadata": {
        "id": "uKG-rdis12wh",
        "colab_type": "code",
        "outputId": "f5103592-03ee-4396-abbb-7412175bdef1",
        "colab": {
          "base_uri": "https://localhost:8080/",
          "height": 1000
        }
      },
      "source": [
        "correct = 0\n",
        "total = 0\n",
        "test_labels = testloader.dataset.targets\n",
        "print(test_labels)\n",
        "correct = 0\n",
        "total = 0\n",
        "confusion_matrix = torch.zeros(30, 30)\n",
        "labels_list=[]\n",
        "predicts_list=[]\n",
        "all_predicted=[]\n",
        "t=0\n",
        "p=0\n",
        "with torch.no_grad():\n",
        "    for data in testloader:\n",
        "        images, labels = data[0].to(device),data[1].to(device)\n",
        "        outputs = model_ft(images)\n",
        "        _, predicted = torch.max(outputs.data, 1)\n",
        "        total += labels.size(0)\n",
        "        correct += (predicted == labels).sum().item()\n",
        "        labels_list+=labels.cpu().numpy().tolist()\n",
        "        all_predicted += predicted.cpu().numpy().tolist()\n",
        "\n",
        "print('Accuracy of the network on the test images: %d %%' % (\n",
        "    100 * correct / total))\n",
        "\n",
        "from sklearn.metrics import confusion_matrix\n",
        "import matplotlib.pyplot as plt\n",
        "import numpy as np\n",
        "import itertools\n",
        "def plot_confusion_matrix(pred_class, actual_class,\n",
        "                          title='Confusion matrix',\n",
        "                          size=None):\n",
        "    \"\"\"\n",
        "    This function prints and plots the confusion matrix.\n",
        "    Normalization can be applied by setting `normalize=True`.\n",
        "\n",
        "    Code from: http://scikit-learn.org/stable/auto_examples/model_selection/plot_confusion_matrix.html\n",
        "    \"\"\"\n",
        "    cm = confusion_matrix(actual_class, pred_class)\n",
        "\n",
        "\n",
        "\n",
        "    cmap = plt.cm.Blues\n",
        "    cm = cm.astype('float') / np.sum(cm, axis=1, keepdims=True)\n",
        "    cm = np.nan_to_num(cm)\n",
        "\n",
        "    if cm is not None:\n",
        "        cm = cm[0:size, 0:size]\n",
        "\n",
        "    print('Confusion matrix')\n",
        "    print(cm)\n",
        "\n",
        "    plt.imshow(cm, interpolation='nearest', cmap=cmap)\n",
        "    plt.title(title)\n",
        "    plt.colorbar()\n",
        "\n",
        "    fmt = '.2f'\n",
        "    thresh = cm.max() / 2.\n",
        "    for i, j in itertools.product(range(cm.shape[0]), range(cm.shape[1])):\n",
        "        plt.text(j, i, format(cm[i, j], fmt),\n",
        "                 horizontalalignment=\"center\",\n",
        "                 color=\"white\" if cm[i, j] > thresh else \"black\")\n",
        "\n",
        "    plt.tight_layout()\n",
        "    plt.ylabel('True label')\n",
        "    plt.xlabel('Predicted label')\n",
        "    \n",
        "#testloader=torch . utils . data . DataLoader( testset , batch_size=4 , shuffle=True)\n",
        "#net1 = FullNet()\n",
        "#net1.fit(trainloader)\n",
        "pred_labels =all_predicted# p.long()#net1.predict(testloader)\n",
        "plt.figure(figsize=(30,30))\n",
        "\n",
        "print(len(labels_list),len(pred_labels))\n",
        "\n",
        "test_labels = labels_list#t.long()#testloader.dataset.targets\n",
        "plot_confusion_matrix(test_labels, pred_labels,size=len(pred_labels))\n",
        "#plot_confusion_matrix(confusion_matrix,size=len(pred_labels))\n",
        "\n"
      ],
      "execution_count": 35,
      "outputs": [
        {
          "output_type": "stream",
          "text": [
            "[0, 0, 0, 0, 0, 0, 0, 0, 0, 0, 0, 0, 0, 0, 0, 1, 1, 1, 1, 1, 1, 1, 1, 1, 1, 1, 1, 1, 1, 1, 2, 2, 2, 2, 2, 2, 2, 2, 2, 2, 2, 2, 2, 2, 2, 3, 3, 3, 3, 3, 3, 3, 3, 3, 3, 3, 3, 3, 3, 3, 4, 4, 4, 4, 4, 4, 4, 4, 4, 4, 4, 4, 4, 4, 4, 5, 5, 5, 5, 5, 5, 5, 5, 5, 5, 5, 5, 5, 5, 5, 6, 6, 6, 6, 6, 6, 6, 6, 6, 6, 6, 6, 6, 6, 6, 7, 7, 7, 7, 7, 7, 7, 7, 7, 7, 7, 7, 7, 7, 7, 8, 8, 8, 8, 8, 8, 8, 8, 8, 8, 8, 8, 8, 8, 8, 9, 9, 9, 9, 9, 9, 9, 9, 9, 9, 9, 9, 9, 9, 9, 10, 10, 10, 10, 10, 10, 10, 10, 10, 10, 10, 10, 10, 10, 10, 11, 11, 11, 11, 11, 11, 11, 11, 11, 11, 11, 11, 11, 11, 11, 12, 12, 12, 12, 12, 12, 12, 12, 12, 12, 12, 12, 12, 12, 12, 13, 13, 13, 13, 13, 13, 13, 13, 13, 13, 13, 13, 13, 13, 13, 14, 14, 14, 14, 14, 14, 14, 14, 14, 14, 14, 14, 14, 14, 14, 15, 15, 15, 15, 15, 15, 15, 15, 15, 15, 15, 15, 15, 15, 15, 16, 16, 16, 16, 16, 16, 16, 16, 16, 16, 16, 16, 16, 16, 16, 17, 17, 17, 17, 17, 17, 17, 17, 17, 17, 17, 17, 17, 17, 17, 18, 18, 18, 18, 18, 18, 18, 18, 18, 18, 18, 18, 18, 18, 18, 19, 19, 19, 19, 19, 19, 19, 19, 19, 19, 19, 19, 19, 19, 19, 20, 20, 20, 20, 20, 20, 20, 20, 20, 20, 20, 20, 20, 20, 20, 21, 21, 21, 21, 21, 21, 21, 21, 21, 21, 21, 21, 21, 21, 21, 22, 22, 22, 22, 22, 22, 22, 22, 22, 22, 22, 22, 22, 22, 22, 23, 23, 23, 23, 23, 23, 23, 23, 23, 23, 23, 23, 23, 23, 23, 24, 24, 24, 24, 24, 24, 24, 24, 24, 24, 24, 24, 24, 24, 24, 25, 25, 25, 25, 25, 25, 25, 25, 25, 25, 25, 25, 25, 25, 25, 26, 26, 26, 26, 26, 26, 26, 26, 26, 26, 26, 26, 26, 26, 26, 27, 27, 27, 27, 27, 27, 27, 27, 27, 27, 27, 27, 27, 27, 27, 28, 28, 28, 28, 28, 28, 28, 28, 28, 28, 28, 28, 28, 28, 28, 29, 29, 29, 29, 29, 29, 29, 29, 29, 29, 29, 29, 29, 29, 29]\n",
            "Accuracy of the network on the test images: 89 %\n",
            "450 450\n",
            "Confusion matrix\n",
            "[[1.         0.         0.         0.         0.         0.\n",
            "  0.         0.         0.         0.         0.         0.\n",
            "  0.         0.         0.         0.         0.         0.\n",
            "  0.         0.         0.         0.         0.         0.\n",
            "  0.         0.         0.         0.         0.         0.        ]\n",
            " [0.         0.83333333 0.         0.         0.05555556 0.\n",
            "  0.         0.         0.         0.         0.         0.\n",
            "  0.         0.         0.         0.         0.         0.\n",
            "  0.         0.         0.         0.11111111 0.         0.\n",
            "  0.         0.         0.         0.         0.         0.        ]\n",
            " [0.         0.         0.9375     0.         0.         0.\n",
            "  0.         0.         0.         0.         0.         0.\n",
            "  0.         0.         0.         0.         0.         0.\n",
            "  0.         0.         0.         0.         0.         0.0625\n",
            "  0.         0.         0.         0.         0.         0.        ]\n",
            " [0.         0.         0.         0.64705882 0.05882353 0.\n",
            "  0.         0.         0.         0.         0.         0.\n",
            "  0.         0.05882353 0.         0.         0.         0.\n",
            "  0.         0.         0.05882353 0.         0.         0.\n",
            "  0.         0.17647059 0.         0.         0.         0.        ]\n",
            " [0.         0.         0.         0.11764706 0.58823529 0.\n",
            "  0.         0.         0.         0.         0.         0.\n",
            "  0.         0.05882353 0.05882353 0.         0.         0.\n",
            "  0.         0.         0.         0.         0.         0.05882353\n",
            "  0.11764706 0.         0.         0.         0.         0.        ]\n",
            " [0.         0.         0.         0.         0.         0.9375\n",
            "  0.         0.         0.         0.         0.         0.\n",
            "  0.         0.         0.         0.         0.         0.\n",
            "  0.         0.0625     0.         0.         0.         0.\n",
            "  0.         0.         0.         0.         0.         0.        ]\n",
            " [0.         0.         0.         0.         0.         0.\n",
            "  1.         0.         0.         0.         0.         0.\n",
            "  0.         0.         0.         0.         0.         0.\n",
            "  0.         0.         0.         0.         0.         0.\n",
            "  0.         0.         0.         0.         0.         0.        ]\n",
            " [0.         0.         0.         0.         0.         0.\n",
            "  0.         0.92857143 0.07142857 0.         0.         0.\n",
            "  0.         0.         0.         0.         0.         0.\n",
            "  0.         0.         0.         0.         0.         0.\n",
            "  0.         0.         0.         0.         0.         0.        ]\n",
            " [0.         0.         0.         0.         0.         0.\n",
            "  0.         0.         0.86666667 0.06666667 0.         0.\n",
            "  0.         0.         0.         0.         0.         0.\n",
            "  0.         0.         0.         0.         0.         0.06666667\n",
            "  0.         0.         0.         0.         0.         0.        ]\n",
            " [0.         0.         0.         0.0625     0.         0.\n",
            "  0.         0.         0.         0.875      0.         0.\n",
            "  0.         0.         0.         0.0625     0.         0.\n",
            "  0.         0.         0.         0.         0.         0.\n",
            "  0.         0.         0.         0.         0.         0.        ]\n",
            " [0.         0.         0.         0.         0.         0.\n",
            "  0.         0.         0.         0.         1.         0.\n",
            "  0.         0.         0.         0.         0.         0.\n",
            "  0.         0.         0.         0.         0.         0.\n",
            "  0.         0.         0.         0.         0.         0.        ]\n",
            " [0.         0.         0.         0.         0.         0.\n",
            "  0.07142857 0.         0.         0.         0.         0.92857143\n",
            "  0.         0.         0.         0.         0.         0.\n",
            "  0.         0.         0.         0.         0.         0.\n",
            "  0.         0.         0.         0.         0.         0.        ]\n",
            " [0.         0.         0.         0.         0.         0.\n",
            "  0.         0.         0.         0.         0.         0.\n",
            "  0.875      0.         0.0625     0.         0.         0.\n",
            "  0.         0.         0.         0.         0.         0.\n",
            "  0.         0.         0.         0.         0.0625     0.        ]\n",
            " [0.         0.         0.         0.05555556 0.05555556 0.\n",
            "  0.         0.         0.         0.         0.         0.\n",
            "  0.         0.72222222 0.         0.         0.         0.\n",
            "  0.         0.         0.         0.         0.         0.\n",
            "  0.05555556 0.05555556 0.         0.         0.05555556 0.        ]\n",
            " [0.         0.         0.         0.         0.         0.\n",
            "  0.         0.06666667 0.         0.         0.         0.06666667\n",
            "  0.         0.         0.8        0.         0.         0.\n",
            "  0.         0.         0.         0.         0.         0.\n",
            "  0.06666667 0.         0.         0.         0.         0.        ]\n",
            " [0.         0.         0.         0.         0.         0.\n",
            "  0.         0.         0.         0.         0.         0.0625\n",
            "  0.         0.         0.         0.875      0.         0.\n",
            "  0.         0.         0.         0.         0.         0.\n",
            "  0.         0.0625     0.         0.         0.         0.        ]\n",
            " [0.         0.         0.         0.         0.         0.\n",
            "  0.         0.         0.06666667 0.         0.         0.\n",
            "  0.         0.         0.         0.         0.93333333 0.\n",
            "  0.         0.         0.         0.         0.         0.\n",
            "  0.         0.         0.         0.         0.         0.        ]\n",
            " [0.         0.         0.         0.         0.         0.\n",
            "  0.         0.         0.         0.         0.         0.\n",
            "  0.         0.         0.         0.         0.         1.\n",
            "  0.         0.         0.         0.         0.         0.\n",
            "  0.         0.         0.         0.         0.         0.        ]\n",
            " [0.         0.         0.         0.         0.         0.\n",
            "  0.         0.         0.         0.         0.         0.\n",
            "  0.0625     0.         0.         0.         0.         0.\n",
            "  0.9375     0.         0.         0.         0.         0.\n",
            "  0.         0.         0.         0.         0.         0.        ]\n",
            " [0.         0.         0.         0.         0.         0.\n",
            "  0.         0.         0.         0.         0.         0.\n",
            "  0.         0.         0.06666667 0.         0.         0.\n",
            "  0.         0.93333333 0.         0.         0.         0.\n",
            "  0.         0.         0.         0.         0.         0.        ]\n",
            " [0.         0.         0.         0.         0.         0.\n",
            "  0.         0.         0.         0.         0.         0.\n",
            "  0.         0.         0.         0.         0.06666667 0.\n",
            "  0.         0.         0.93333333 0.         0.         0.\n",
            "  0.         0.         0.         0.         0.         0.        ]\n",
            " [0.         0.         0.         0.         0.         0.\n",
            "  0.         0.         0.         0.         0.         0.\n",
            "  0.         0.         0.         0.         0.         0.\n",
            "  0.         0.         0.         1.         0.         0.\n",
            "  0.         0.         0.         0.         0.         0.        ]\n",
            " [0.         0.         0.         0.         0.         0.\n",
            "  0.         0.         0.         0.         0.         0.\n",
            "  0.         0.         0.         0.         0.         0.\n",
            "  0.         0.         0.         0.         1.         0.\n",
            "  0.         0.         0.         0.         0.         0.        ]\n",
            " [0.         0.         0.         0.         0.         0.\n",
            "  0.         0.         0.         0.         0.         0.\n",
            "  0.         0.         0.         0.         0.         0.\n",
            "  0.         0.         0.         0.         0.         1.\n",
            "  0.         0.         0.         0.         0.         0.        ]\n",
            " [0.         0.         0.         0.         0.13333333 0.\n",
            "  0.         0.         0.         0.         0.         0.\n",
            "  0.         0.         0.         0.         0.         0.\n",
            "  0.         0.         0.         0.06666667 0.         0.\n",
            "  0.73333333 0.06666667 0.         0.         0.         0.        ]\n",
            " [0.         0.         0.         0.         0.         0.\n",
            "  0.         0.         0.         0.         0.         0.\n",
            "  0.         0.         0.         0.         0.         0.\n",
            "  0.         0.         0.         0.         0.         0.\n",
            "  0.         1.         0.         0.         0.         0.        ]\n",
            " [0.         0.         0.         0.         0.         0.\n",
            "  0.         0.         0.         0.         0.         0.\n",
            "  0.         0.         0.         0.         0.         0.\n",
            "  0.         0.         0.         0.         0.         0.\n",
            "  0.         0.         1.         0.         0.         0.        ]\n",
            " [0.         0.         0.         0.         0.         0.\n",
            "  0.05555556 0.05555556 0.         0.         0.         0.\n",
            "  0.         0.         0.         0.         0.         0.\n",
            "  0.         0.         0.         0.         0.05555556 0.\n",
            "  0.         0.         0.         0.83333333 0.         0.        ]\n",
            " [0.         0.         0.         0.         0.         0.\n",
            "  0.         0.         0.         0.         0.         0.\n",
            "  0.         0.         0.         0.         0.         0.\n",
            "  0.         0.         0.         0.         0.         0.\n",
            "  0.         0.         0.         0.         1.         0.        ]\n",
            " [0.         0.         0.         0.         0.         0.\n",
            "  0.         0.         0.         0.         0.         0.\n",
            "  0.         0.         0.         0.         0.         0.\n",
            "  0.         0.         0.         0.         0.         0.\n",
            "  0.         0.         0.         0.         0.         1.        ]]\n"
          ],
          "name": "stdout"
        },
        {
          "output_type": "display_data",
          "data": {
            "image/png": "[encoded data removed]",
            "text/plain": [
              "<Figure size 2160x2160 with 2 Axes>"
            ]
          },
          "metadata": {
            "tags": []
          }
        }
      ]
    }
  ]
}